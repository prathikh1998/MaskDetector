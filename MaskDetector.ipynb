{
 "cells": [
  {
   "cell_type": "code",
   "execution_count": 1,
   "metadata": {},
   "outputs": [],
   "source": [
    "data_path=\"C:\\\\Users\\\\ruttu\\\\Desktop\\\\Mask Detector\\\\dataset\""
   ]
  },
  {
   "cell_type": "code",
   "execution_count": 2,
   "metadata": {},
   "outputs": [],
   "source": [
    "import os\n",
    "import cv2"
   ]
  },
  {
   "cell_type": "code",
   "execution_count": 3,
   "metadata": {},
   "outputs": [],
   "source": [
    "categories=[\"with_mask\",\"without_mask\"]\n",
    "map_target={\"with_mask\":0,\"without_mask\":1}"
   ]
  },
  {
   "cell_type": "markdown",
   "metadata": {},
   "source": [
    "# Data Fetching"
   ]
  },
  {
   "cell_type": "code",
   "execution_count": 4,
   "metadata": {},
   "outputs": [
    {
     "name": "stdout",
     "output_type": "stream",
     "text": [
      "[INFO] loading images of category with_mask...\n",
      "[INFO] loading images of category without_mask...\n",
      "Fetching data completed........\n"
     ]
    }
   ],
   "source": [
    "data=[]\n",
    "target=[]\n",
    "for category in categories:\n",
    "    folder_path=os.path.join(data_path,category)\n",
    "    images=os.listdir(folder_path)\n",
    "    \n",
    "    print(f'[INFO] loading images of category {category}...')\n",
    "    \n",
    "    for image in images:\n",
    "        img=os.path.join(folder_path,image)\n",
    "        try:\n",
    "            img=cv2.imread(img)\n",
    "            img=cv2.cvtColor(img,cv2.COLOR_BGR2GRAY)\n",
    "            resized_img=cv2.resize(img,(100,100))\n",
    "            data.append(resized_img)\n",
    "            target.append(map_target[category])\n",
    "        except:\n",
    "            pass\n",
    "print(\"Fetching data completed........\")"
   ]
  },
  {
   "cell_type": "code",
   "execution_count": 5,
   "metadata": {},
   "outputs": [],
   "source": [
    "import numpy as np"
   ]
  },
  {
   "cell_type": "code",
   "execution_count": 6,
   "metadata": {},
   "outputs": [],
   "source": [
    "data=np.array(data)\n",
    "#Converting the colored images to greyscale \n",
    "data=data/255\n"
   ]
  },
  {
   "cell_type": "code",
   "execution_count": 7,
   "metadata": {},
   "outputs": [
    {
     "data": {
      "text/plain": [
       "(3810, 100, 100)"
      ]
     },
     "execution_count": 7,
     "metadata": {},
     "output_type": "execute_result"
    }
   ],
   "source": [
    "data.shape"
   ]
  },
  {
   "cell_type": "code",
   "execution_count": 8,
   "metadata": {},
   "outputs": [],
   "source": [
    "#Althogh when we converted to grayscale the imgs still have 3 color channels(BGR),so we have to RESHAPE it. \n",
    "data = np.reshape(data, (3810, 100, 100, 1))"
   ]
  },
  {
   "cell_type": "code",
   "execution_count": 9,
   "metadata": {},
   "outputs": [
    {
     "data": {
      "text/plain": [
       "(3810, 100, 100, 1)"
      ]
     },
     "execution_count": 9,
     "metadata": {},
     "output_type": "execute_result"
    }
   ],
   "source": [
    "data.shape"
   ]
  },
  {
   "cell_type": "code",
   "execution_count": 10,
   "metadata": {},
   "outputs": [],
   "source": [
    "target=np.array(target)"
   ]
  },
  {
   "cell_type": "code",
   "execution_count": 11,
   "metadata": {},
   "outputs": [
    {
     "data": {
      "text/plain": [
       "(3810,)"
      ]
     },
     "execution_count": 11,
     "metadata": {},
     "output_type": "execute_result"
    }
   ],
   "source": [
    "target.shape"
   ]
  },
  {
   "cell_type": "code",
   "execution_count": 12,
   "metadata": {},
   "outputs": [
    {
     "name": "stderr",
     "output_type": "stream",
     "text": [
      "Using TensorFlow backend.\n"
     ]
    }
   ],
   "source": [
    "from keras.utils import to_categorical"
   ]
  },
  {
   "cell_type": "code",
   "execution_count": 13,
   "metadata": {},
   "outputs": [],
   "source": [
    "new_target=to_categorical(target)"
   ]
  },
  {
   "cell_type": "code",
   "execution_count": 14,
   "metadata": {},
   "outputs": [
    {
     "data": {
      "text/plain": [
       "(3810, 2)"
      ]
     },
     "execution_count": 14,
     "metadata": {},
     "output_type": "execute_result"
    }
   ],
   "source": [
    "new_target.shape"
   ]
  },
  {
   "cell_type": "markdown",
   "metadata": {},
   "source": [
    "# Defining Architecture"
   ]
  },
  {
   "cell_type": "code",
   "execution_count": 15,
   "metadata": {},
   "outputs": [],
   "source": [
    "from keras.models import Sequential\n",
    "from keras.layers import Dense,Flatten,Dropout\n",
    "from keras.layers.convolutional import Conv2D,MaxPooling2D"
   ]
  },
  {
   "cell_type": "code",
   "execution_count": 16,
   "metadata": {},
   "outputs": [],
   "source": [
    "model=Sequential()\n",
    "\n",
    "\n",
    "model.add(Conv2D(200,(3,3),input_shape=(100,100,1),activation=\"relu\"))\n",
    "model.add(MaxPooling2D(pool_size=(2,2)))\n",
    "model.add(Conv2D(200,(3,3),activation=\"relu\"))\n",
    "model.add(MaxPooling2D(pool_size=(2,2)))\n",
    "model.add(Conv2D(200,(3,3),activation=\"relu\"))\n",
    "model.add(MaxPooling2D(pool_size=(2,2)))\n",
    "model.add(Conv2D(200,(3,3),activation=\"relu\"))\n",
    "\n",
    "model.add(Flatten())\n",
    "model.add(Dropout(0.5))\n",
    "model.add(Dense(128,activation=\"relu\"))\n",
    "model.add(Dense(64,activation=\"relu\"))\n",
    "model.add(Dense(2,activation=\"softmax\"))"
   ]
  },
  {
   "cell_type": "markdown",
   "metadata": {},
   "source": [
    "# Compiling the model"
   ]
  },
  {
   "cell_type": "code",
   "execution_count": 17,
   "metadata": {},
   "outputs": [],
   "source": [
    "model.compile(optimizer=\"adam\",loss=\"categorical_crossentropy\",metrics=[\"accuracy\"])"
   ]
  },
  {
   "cell_type": "markdown",
   "metadata": {},
   "source": [
    "# Fit the model or Train the model"
   ]
  },
  {
   "cell_type": "code",
   "execution_count": 18,
   "metadata": {},
   "outputs": [
    {
     "name": "stdout",
     "output_type": "stream",
     "text": [
      "Epoch 1/20\n",
      "3810/3810 [==============================] - 313s 82ms/step - loss: 0.6069 - accuracy: 0.6533\n",
      "Epoch 2/20\n",
      "3810/3810 [==============================] - 310s 81ms/step - loss: 0.3936 - accuracy: 0.8231\n",
      "Epoch 3/20\n",
      "3810/3810 [==============================] - 310s 81ms/step - loss: 0.3110 - accuracy: 0.8675\n",
      "Epoch 4/20\n",
      "3810/3810 [==============================] - 309s 81ms/step - loss: 0.2679 - accuracy: 0.8864\n",
      "Epoch 5/20\n",
      "3810/3810 [==============================] - 312s 82ms/step - loss: 0.2382 - accuracy: 0.9052\n",
      "Epoch 6/20\n",
      "3810/3810 [==============================] - 313s 82ms/step - loss: 0.2111 - accuracy: 0.9155\n",
      "Epoch 7/20\n",
      "3810/3810 [==============================] - 425s 112ms/step - loss: 0.1841 - accuracy: 0.9270\n",
      "Epoch 8/20\n",
      "3810/3810 [==============================] - 605s 159ms/step - loss: 0.1654 - accuracy: 0.9386\n",
      "Epoch 9/20\n",
      "3810/3810 [==============================] - 605s 159ms/step - loss: 0.1523 - accuracy: 0.9404\n",
      "Epoch 10/20\n",
      "3810/3810 [==============================] - 554s 145ms/step - loss: 0.1221 - accuracy: 0.9520\n",
      "Epoch 11/20\n",
      "3810/3810 [==============================] - 556s 146ms/step - loss: 0.1101 - accuracy: 0.9585\n",
      "Epoch 12/20\n",
      "3810/3810 [==============================] - 553s 145ms/step - loss: 0.1106 - accuracy: 0.9583\n",
      "Epoch 13/20\n",
      "3810/3810 [==============================] - 556s 146ms/step - loss: 0.0973 - accuracy: 0.9640\n",
      "Epoch 14/20\n",
      "3810/3810 [==============================] - 586s 154ms/step - loss: 0.0786 - accuracy: 0.9696\n",
      "Epoch 15/20\n",
      "3810/3810 [==============================] - 594s 156ms/step - loss: 0.0690 - accuracy: 0.9745\n",
      "Epoch 16/20\n",
      "3810/3810 [==============================] - 574s 151ms/step - loss: 0.0659 - accuracy: 0.9777\n",
      "Epoch 17/20\n",
      "3810/3810 [==============================] - 595s 156ms/step - loss: 0.0463 - accuracy: 0.9853\n",
      "Epoch 18/20\n",
      "3810/3810 [==============================] - 599s 157ms/step - loss: 0.0496 - accuracy: 0.9822\n",
      "Epoch 19/20\n",
      "3810/3810 [==============================] - 594s 156ms/step - loss: 0.0487 - accuracy: 0.9837\n",
      "Epoch 20/20\n",
      "3810/3810 [==============================] - 597s 157ms/step - loss: 0.0436 - accuracy: 0.9848\n"
     ]
    },
    {
     "data": {
      "text/plain": [
       "<keras.callbacks.callbacks.History at 0x25f7e9dec88>"
      ]
     },
     "execution_count": 18,
     "metadata": {},
     "output_type": "execute_result"
    }
   ],
   "source": [
    "model.fit(data,new_target,epochs=20)"
   ]
  },
  {
   "cell_type": "markdown",
   "metadata": {},
   "source": [
    "# Face Detection"
   ]
  },
  {
   "cell_type": "code",
   "execution_count": 19,
   "metadata": {},
   "outputs": [],
   "source": [
    "cascPath = os.path.dirname(cv2.__file__) + \"\\data\\haarcascade_frontalface_default.xml\"\n",
    "faceCascade = cv2.CascadeClassifier(cascPath)"
   ]
  },
  {
   "cell_type": "code",
   "execution_count": 22,
   "metadata": {},
   "outputs": [],
   "source": [
    "cap=cv2.VideoCapture(0)\n",
    "cap.set(3,640)\n",
    "cap.set(4,480)\n",
    "cap.set(10,180)\n",
    "if not cap.isOpened():\n",
    "    print(\"Cannot open camera\")\n",
    "    exit()\n",
    "    \n",
    "\n",
    "font=cv2.FONT_HERSHEY_SIMPLEX\n",
    "categories=np.array(categories)\n",
    "\n",
    "while True:\n",
    "    success,result=cap.read()\n",
    "    if not success:\n",
    "        print(\"Can't receive the result.EXITING.........\")\n",
    "        break\n",
    "        \n",
    "        \n",
    "    grayimg=cv2.cvtColor(result,cv2.COLOR_BGR2GRAY)\n",
    "    img=np.asarray(result)\n",
    "    img=cv2.resize(img,(100,100))\n",
    "    img=cv2.cvtColor(img,cv2.COLOR_BGR2GRAY)\n",
    "    img=img/255\n",
    "    \n",
    "    \n",
    "    faces=faceCascade.detectMultiScale(\n",
    "    grayimg,\n",
    "    scaleFactor=1.1,\n",
    "    minNeighbors=4,\n",
    "    minSize=(30,30),\n",
    "    flags=cv2.CASCADE_SCALE_IMAGE\n",
    "    )\n",
    "    \n",
    "    \n",
    "    cv2.imshow(\"Processed Image\",img)\n",
    "    img=np.reshape(img,(1,100,100,1))\n",
    "    \n",
    "    #Making our model to predict\n",
    "    predictions=model.predict(img)\n",
    "    category_index=model.predict_classes(img)\n",
    "    prob=np.amax(predictions)\n",
    "    \n",
    "    \n",
    "    if(prob>0.7):\n",
    "        \n",
    "        #to make the rectangles around our faces\n",
    "        for (x,y,w,h) in faces:\n",
    "            \n",
    "            if(categories[category_index][0]==\"with_mask\"):\n",
    "                color=(0,200,0)\n",
    "            else:\n",
    "                color=(0,0,200)\n",
    "                \n",
    "            cv2.rectangle(result,(x,y),(x+w,y+h),color,3)\n",
    "            cv2.rectangle(result,(x,y-40),(x+w,y),color,-1)\n",
    "            cv2.putText(result,str(round((prob*100),2))+\"%\",(x+10,y-10),font,0.75,(255,255,255),2)\n",
    "            cv2.rectangle(result,(x,y+h+3),(x+w,y+h+40),color,-1)\n",
    "            cv2.putText(result,str(categories[category_index][0]),(x+10,y+h+45),font,0.75,(255,255,255),2)\n",
    "    cv2.imshow(\"Result\",result)\n",
    "    if cv2.waitKey(1) == ord('q'):\n",
    "        break\n",
    "cap.release()\n",
    "cv2.destroyAllWindows()"
   ]
  },
  {
   "cell_type": "code",
   "execution_count": null,
   "metadata": {},
   "outputs": [],
   "source": [
    "model.save(\"my_mask_model.h5\")"
   ]
  }
 ],
 "metadata": {
  "kernelspec": {
   "display_name": "Python 3",
   "language": "python",
   "name": "python3"
  },
  "language_info": {
   "codemirror_mode": {
    "name": "ipython",
    "version": 3
   },
   "file_extension": ".py",
   "mimetype": "text/x-python",
   "name": "python",
   "nbconvert_exporter": "python",
   "pygments_lexer": "ipython3",
   "version": "3.7.4"
  }
 },
 "nbformat": 4,
 "nbformat_minor": 2
}
